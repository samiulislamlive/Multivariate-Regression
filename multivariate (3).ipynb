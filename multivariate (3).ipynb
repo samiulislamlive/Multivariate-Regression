{
  "nbformat": 4,
  "nbformat_minor": 0,
  "metadata": {
    "colab": {
      "name": "multivariate.ipynb",
      "provenance": [],
      "collapsed_sections": []
    },
    "kernelspec": {
      "name": "python3",
      "display_name": "Python 3"
    }
  },
  "cells": [
    {
      "cell_type": "code",
      "metadata": {
        "id": "18JLCa98qyiu"
      },
      "source": [
        "import numpy as np \n",
        "from sklearn import datasets, linear_model, metrics"
      ],
      "execution_count": null,
      "outputs": []
    },
    {
      "cell_type": "code",
      "metadata": {
        "id": "TVkFL1juvTZ-"
      },
      "source": [
        "diabetes = datasets.load_diabetes()"
      ],
      "execution_count": null,
      "outputs": []
    },
    {
      "cell_type": "code",
      "metadata": {
        "id": "5yhrm5r8FAH2"
      },
      "source": [
        "diabetes"
      ],
      "execution_count": null,
      "outputs": []
    },
    {
      "cell_type": "code",
      "metadata": {
        "id": "tdFNbkcKkqC5"
      },
      "source": [
        "diabetes.DESCR"
      ],
      "execution_count": null,
      "outputs": []
    },
    {
      "cell_type": "code",
      "metadata": {
        "id": "RK4E53kEFEtn"
      },
      "source": [
        "diabetes.data "
      ],
      "execution_count": null,
      "outputs": []
    },
    {
      "cell_type": "code",
      "metadata": {
        "id": "ehF7-ei3FNuX"
      },
      "source": [
        "diabetes.target"
      ],
      "execution_count": null,
      "outputs": []
    },
    {
      "cell_type": "code",
      "metadata": {
        "id": "6Qr0Ew99ja5A"
      },
      "source": [
        "print(diabetes.feature_names)"
      ],
      "execution_count": null,
      "outputs": []
    },
    {
      "cell_type": "code",
      "metadata": {
        "id": "jPCOr1cEvW98"
      },
      "source": [
        "X = diabetes.data[:]\n",
        "y = diabetes.target[:]"
      ],
      "execution_count": null,
      "outputs": []
    },
    {
      "cell_type": "code",
      "metadata": {
        "id": "BFI6XqWxYjTu"
      },
      "source": [
        "X"
      ],
      "execution_count": null,
      "outputs": []
    },
    {
      "cell_type": "code",
      "metadata": {
        "id": "LCQhoDEAj8Ff"
      },
      "source": [
        "y"
      ],
      "execution_count": null,
      "outputs": []
    },
    {
      "cell_type": "code",
      "metadata": {
        "id": "nTtwHmFjvwtX"
      },
      "source": [
        "W = np.random.uniform(low=-0.1, high=0.1, size=X.shape[1])\n",
        "b = 0.0\n",
        "\n",
        "alpha = 0.01\n",
        "\n",
        "iteration = 100\n",
        "\n",
        "\n",
        "for i in range(iteration):\n",
        "\n",
        "   \n",
        "    y_pred = X.dot(W) + b\n",
        "\n",
        "    \n",
        "    error = y - y_pred\n",
        "\n",
        "    mse = np.mean(np.power(error, 2)) \n",
        "\n",
        "    \n",
        "    W_gradient = -(2/len(X)) * error.dot(X)\n",
        "    b_gradient = -(2/len(X)) * np.sum(error)\n",
        "\n",
        "\n",
        "   \n",
        "\n",
        "    W = W - (alpha * W_gradient)\n",
        "    b = b - (alpha * b_gradient)\n",
        "\n",
        "    \n",
        "    if i % 1 == 0:\n",
        "       print(\"iteration %d: %f\" % (i, mse))\n",
        "\n",
        "print(\"Mean Square error: %.2f\" % mse)"
      ],
      "execution_count": null,
      "outputs": []
    }
  ]
}